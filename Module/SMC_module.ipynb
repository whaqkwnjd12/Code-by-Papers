{
 "cells": [
  {
   "cell_type": "code",
   "execution_count": null,
   "id": "965cbc11",
   "metadata": {},
   "outputs": [
    {
     "name": "stdout",
     "output_type": "stream",
     "text": [
      "tensor(1.0871, device='cuda:0', grad_fn=<MseLossBackward0>)\n",
      "tensor(1.0226, device='cuda:0', grad_fn=<MseLossBackward0>)\n",
      "tensor(1.0096, device='cuda:0', grad_fn=<MseLossBackward0>)\n",
      "tensor(1.0080, device='cuda:0', grad_fn=<MseLossBackward0>)\n",
      "tensor(1.0074, device='cuda:0', grad_fn=<MseLossBackward0>)\n",
      "tensor(1.0069, device='cuda:0', grad_fn=<MseLossBackward0>)\n",
      "tensor(1.0067, device='cuda:0', grad_fn=<MseLossBackward0>)\n",
      "tensor(1.0060, device='cuda:0', grad_fn=<MseLossBackward0>)\n",
      "tensor(1.0049, device='cuda:0', grad_fn=<MseLossBackward0>)\n",
      "tensor(1.0043, device='cuda:0', grad_fn=<MseLossBackward0>)\n",
      "tensor(1.0039, device='cuda:0', grad_fn=<MseLossBackward0>)\n",
      "tensor(1.0037, device='cuda:0', grad_fn=<MseLossBackward0>)\n",
      "tensor(1.0035, device='cuda:0', grad_fn=<MseLossBackward0>)\n",
      "tensor(1.0033, device='cuda:0', grad_fn=<MseLossBackward0>)\n",
      "tensor(1.0030, device='cuda:0', grad_fn=<MseLossBackward0>)\n",
      "tensor(1.0027, device='cuda:0', grad_fn=<MseLossBackward0>)\n",
      "tensor(1.0024, device='cuda:0', grad_fn=<MseLossBackward0>)\n",
      "tensor(1.0021, device='cuda:0', grad_fn=<MseLossBackward0>)\n",
      "tensor(1.0017, device='cuda:0', grad_fn=<MseLossBackward0>)\n",
      "tensor(1.0012, device='cuda:0', grad_fn=<MseLossBackward0>)\n",
      "tensor(1.0008, device='cuda:0', grad_fn=<MseLossBackward0>)\n",
      "tensor(1.0005, device='cuda:0', grad_fn=<MseLossBackward0>)\n",
      "tensor(1.0003, device='cuda:0', grad_fn=<MseLossBackward0>)\n",
      "tensor(1.0002, device='cuda:0', grad_fn=<MseLossBackward0>)\n",
      "tensor(1.0000, device='cuda:0', grad_fn=<MseLossBackward0>)\n",
      "tensor(0.9997, device='cuda:0', grad_fn=<MseLossBackward0>)\n",
      "tensor(0.9996, device='cuda:0', grad_fn=<MseLossBackward0>)\n",
      "tensor(0.9995, device='cuda:0', grad_fn=<MseLossBackward0>)\n",
      "tensor(0.9994, device='cuda:0', grad_fn=<MseLossBackward0>)\n",
      "tensor(0.9992, device='cuda:0', grad_fn=<MseLossBackward0>)\n",
      "tensor(0.9990, device='cuda:0', grad_fn=<MseLossBackward0>)\n",
      "tensor(0.9988, device='cuda:0', grad_fn=<MseLossBackward0>)\n",
      "tensor(0.9988, device='cuda:0', grad_fn=<MseLossBackward0>)\n",
      "tensor(0.9988, device='cuda:0', grad_fn=<MseLossBackward0>)\n",
      "tensor(0.9987, device='cuda:0', grad_fn=<MseLossBackward0>)\n",
      "tensor(0.9985, device='cuda:0', grad_fn=<MseLossBackward0>)\n",
      "tensor(0.9987, device='cuda:0', grad_fn=<MseLossBackward0>)\n",
      "tensor(0.9987, device='cuda:0', grad_fn=<MseLossBackward0>)\n",
      "tensor(0.9988, device='cuda:0', grad_fn=<MseLossBackward0>)\n",
      "tensor(0.9986, device='cuda:0', grad_fn=<MseLossBackward0>)\n",
      "tensor(0.9987, device='cuda:0', grad_fn=<MseLossBackward0>)\n",
      "tensor(0.9997, device='cuda:0', grad_fn=<MseLossBackward0>)\n",
      "tensor(0.9986, device='cuda:0', grad_fn=<MseLossBackward0>)\n"
     ]
    }
   ],
   "source": [
    "import torch\n",
    "import torch.nn as nn\n",
    "from modules.module import SMC_Module\n",
    "from time import time\n",
    "from torch.optim import SGD\n",
    "from torch.nn import MSELoss\n",
    "%load_ext autoreload\n",
    "%autoreload 2\n",
    "\n",
    "DEVICE = torch.device('cuda:0')\n",
    "b = SMC_Module().to(DEVICE)\n",
    "\n",
    "T = 64\n",
    "x = torch.randn(T, 3, 244, 244).to(DEVICE)\n",
    "l = torch.randn(T, 1536).to(DEVICE)\n",
    "start = time()\n",
    "y = b(x)\n",
    "cri = MSELoss()\n",
    "optim = SGD(b.parameters(), lr=0.05, momentum=0.5)\n",
    "for _ in range(100):\n",
    "    y = b(x)\n",
    "    loss = cri(y, l)\n",
    "    loss.backward()\n",
    "    optim.step()\n",
    "    print(loss)"
   ]
  }
 ],
 "metadata": {
  "kernelspec": {
   "display_name": "Python 3 (ipykernel)",
   "language": "python",
   "name": "python3"
  },
  "language_info": {
   "codemirror_mode": {
    "name": "ipython",
    "version": 3
   },
   "file_extension": ".py",
   "mimetype": "text/x-python",
   "name": "python",
   "nbconvert_exporter": "python",
   "pygments_lexer": "ipython3",
   "version": "3.8.10"
  }
 },
 "nbformat": 4,
 "nbformat_minor": 5
}
