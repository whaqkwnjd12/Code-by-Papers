{
 "cells": [
  {
   "cell_type": "code",
   "execution_count": 1,
   "id": "965cbc11",
   "metadata": {},
   "outputs": [],
   "source": [
    "import torch\n",
    "import torch.nn as nn\n",
    "from modules.module import SMC_Module\n",
    "\n",
    "%load_ext autoreload\n",
    "%autoreload 2\n",
    "\n",
    "DEVICE = torch.device('cuda:0')\n",
    "b = SMC_Module().to(DEVICE)\n",
    "\n",
    "T = 64\n",
    "x = torch.randn(T, 3, 244, 244).to(DEVICE)\n",
    "x = b(x)\n",
    "\n"
   ]
  },
  {
   "cell_type": "code",
   "execution_count": 20,
   "id": "e52f7e59",
   "metadata": {},
   "outputs": [
    {
     "data": {
      "text/plain": [
       "Conv1d(12, 12, kernel_size=(3,), stride=(1,))"
      ]
     },
     "execution_count": 20,
     "metadata": {},
     "output_type": "execute_result"
    }
   ],
   "source": [
    "a = [3, 4, 5]\n",
    "v = nn.Conv1d( sum(a), 12, kernel_size = 3)\n",
    "v"
   ]
  },
  {
   "cell_type": "code",
   "execution_count": null,
   "id": "def86023",
   "metadata": {},
   "outputs": [],
   "source": [
    "class TC_Layer(nn.Module):\n",
    "    \n",
    "    def __init__(self):\n",
    "        super(TC_Layer, self).__init__()\n",
    "        \n",
    "    def forward(self, x):\n",
    "        \"\"\"\n",
    "        x : T X 256 or 512\n",
    "        \"\"\"\n",
    "        "
   ]
  },
  {
   "cell_type": "code",
   "execution_count": null,
   "id": "72c4375e",
   "metadata": {},
   "outputs": [],
   "source": [
    "class TMC_Block(nn.Module):\n",
    "    \n",
    "    def __init__(self):\n",
    "        super(TMC_Module, self).__init__()\n",
    "        self.make_module()\n",
    "        \n",
    "        \n",
    "    def forward(self, full, pose, face, hands):\n",
    "        print(\"here\")\n",
    "        \n",
    "    def make_module(self):\n",
    "        \n",
    "        intra_Cue = []\n",
    "        inter_Cue = []\n",
    "        "
   ]
  },
  {
   "cell_type": "code",
   "execution_count": 24,
   "id": "1bdc7ccd",
   "metadata": {},
   "outputs": [
    {
     "name": "stdout",
     "output_type": "stream",
     "text": [
      "tensor([[[1., 1., 1., 1., 1., 1., 1.],\n",
      "         [1., 1., 1., 1., 1., 1., 1.],\n",
      "         [1., 1., 1., 1., 1., 1., 1.]]])\n",
      "torch.Size([1, 4, 6])\n",
      "tensor([[[-0.8604, -0.8604, -0.8604, -0.8604, -0.8604, -0.8604],\n",
      "         [ 0.3233,  0.3233,  0.3233,  0.3233,  0.3233,  0.3233],\n",
      "         [ 0.1183,  0.1183,  0.1183,  0.1183,  0.1183,  0.1183],\n",
      "         [ 0.5857,  0.5857,  0.5857,  0.5857,  0.5857,  0.5857]]],\n",
      "       grad_fn=<SqueezeBackward1>)\n"
     ]
    }
   ],
   "source": [
    "c = nn.Conv1d(3, 4, kernel_size=2)\n",
    "x = torch.ones(1, 3, 7)\n",
    "\n",
    "print(x)\n",
    "y = c(x)\n",
    "print(y.size())\n",
    "print(y)"
   ]
  },
  {
   "cell_type": "code",
   "execution_count": 25,
   "id": "2770982d",
   "metadata": {},
   "outputs": [
    {
     "name": "stdout",
     "output_type": "stream",
     "text": [
      "weight\n",
      "Parameter containing:\n",
      "tensor([[[-0.2161, -0.3050],\n",
      "         [ 0.3015, -0.3101],\n",
      "         [-0.3954,  0.1337]],\n",
      "\n",
      "        [[-0.1474,  0.0823],\n",
      "         [ 0.1518,  0.0098],\n",
      "         [ 0.1986, -0.3169]],\n",
      "\n",
      "        [[ 0.1044,  0.1543],\n",
      "         [-0.3745,  0.1018],\n",
      "         [ 0.2048, -0.2942]],\n",
      "\n",
      "        [[ 0.3650,  0.0006],\n",
      "         [-0.0580,  0.2051],\n",
      "         [-0.1331,  0.3716]]], requires_grad=True)\n",
      "bias\n",
      "Parameter containing:\n",
      "tensor([-0.0691,  0.3450,  0.2217, -0.1655], requires_grad=True)\n"
     ]
    }
   ],
   "source": [
    "for n, p  in c.named_parameters():\n",
    "    print(n)\n",
    "    print(p)"
   ]
  },
  {
   "cell_type": "code",
   "execution_count": 28,
   "id": "988321cc",
   "metadata": {},
   "outputs": [],
   "source": [
    "def make_block(in_channels, out_channels, cue_num):\n",
    "        \n",
    "        intra_cue_path = []\n",
    "        inter_cue_path = []\n",
    "        \n",
    "        for i in range(cue_num):\n",
    "            print(in_channels[i], out_channels/cue_num)\n",
    "            intra_cue_path.append(nn.Conv1d(in_channels[i], int(out_channels/cue_num), kernel_size = 5, padding = 2))\n",
    "        intra_cue_path.append(nn.ReLU(inplace=True))\n",
    "        \n",
    "        TC_1_layer = nn.Conv1d(out_channels, int(out_channels/2), kernel_size=1)\n",
    "        \n",
    "        inter_cue_path.append(nn.Conv1d(sum(in_channels), int(out_channels/2), kernel_size = 5, padding = 2))\n",
    "        inter_cue_path.append(nn.ReLU(inplace=True))\n",
    "        \n",
    "        return nn.ModuleList([nn.ModuleList(intra_cue_path), TC_1_layer, nn.ModuleList(inter_cue_path)])"
   ]
  },
  {
   "cell_type": "code",
   "execution_count": 11,
   "id": "07a2880c",
   "metadata": {},
   "outputs": [],
   "source": [
    "def a(**kwargs):\n",
    "    print(kwargs['c'], kwargs['b'])"
   ]
  },
  {
   "cell_type": "code",
   "execution_count": 23,
   "id": "9dd97cb4",
   "metadata": {},
   "outputs": [],
   "source": [
    "import torch\n",
    "b= torch.randn(4, 5, 20, 20)"
   ]
  },
  {
   "cell_type": "code",
   "execution_count": 17,
   "id": "7e7b7281",
   "metadata": {},
   "outputs": [],
   "source": [
    "index = torch.Tensor([[1, 10], [5, 14]])"
   ]
  },
  {
   "cell_type": "code",
   "execution_count": 18,
   "id": "64867051",
   "metadata": {},
   "outputs": [
    {
     "ename": "TypeError",
     "evalue": "only integer tensors of a single element can be converted to an index",
     "output_type": "error",
     "traceback": [
      "\u001b[0;31m---------------------------------------------------------------------------\u001b[0m",
      "\u001b[0;31mTypeError\u001b[0m                                 Traceback (most recent call last)",
      "Input \u001b[0;32mIn [18]\u001b[0m, in \u001b[0;36m<module>\u001b[0;34m\u001b[0m\n\u001b[0;32m----> 1\u001b[0m \u001b[43mx\u001b[49m\u001b[43m[\u001b[49m\u001b[43m:\u001b[49m\u001b[43m,\u001b[49m\u001b[43m \u001b[49m\u001b[43m:\u001b[49m\u001b[43m,\u001b[49m\u001b[43m \u001b[49m\u001b[43mindex\u001b[49m\u001b[43m[\u001b[49m\u001b[38;5;241;43m0\u001b[39;49m\u001b[43m]\u001b[49m\u001b[43m[\u001b[49m\u001b[38;5;241;43m0\u001b[39;49m\u001b[43m]\u001b[49m\u001b[43m:\u001b[49m\u001b[43mindex\u001b[49m\u001b[43m[\u001b[49m\u001b[38;5;241;43m0\u001b[39;49m\u001b[43m]\u001b[49m\u001b[43m[\u001b[49m\u001b[38;5;241;43m1\u001b[39;49m\u001b[43m]\u001b[49m\u001b[43m,\u001b[49m\u001b[43m \u001b[49m\u001b[43mindex\u001b[49m\u001b[43m[\u001b[49m\u001b[38;5;241;43m1\u001b[39;49m\u001b[43m]\u001b[49m\u001b[43m[\u001b[49m\u001b[38;5;241;43m0\u001b[39;49m\u001b[43m]\u001b[49m\u001b[43m:\u001b[49m\u001b[43mindex\u001b[49m\u001b[43m[\u001b[49m\u001b[38;5;241;43m1\u001b[39;49m\u001b[43m]\u001b[49m\u001b[43m[\u001b[49m\u001b[38;5;241;43m1\u001b[39;49m\u001b[43m]\u001b[49m\u001b[43m]\u001b[49m\n",
      "\u001b[0;31mTypeError\u001b[0m: only integer tensors of a single element can be converted to an index"
     ]
    }
   ],
   "source": [
    "x[:, :, index[0][0]:index[0][1], index[1][0]:index[1][1]]"
   ]
  },
  {
   "cell_type": "code",
   "execution_count": 22,
   "id": "5d8b3411",
   "metadata": {},
   "outputs": [],
   "source": [
    "size = x.size()"
   ]
  },
  {
   "cell_type": "code",
   "execution_count": 25,
   "id": "1d22283a",
   "metadata": {},
   "outputs": [
    {
     "data": {
      "text/plain": [
       "torch.Size([4, 5, 20, 20])"
      ]
     },
     "execution_count": 25,
     "metadata": {},
     "output_type": "execute_result"
    }
   ],
   "source": [
    "size"
   ]
  },
  {
   "cell_type": "code",
   "execution_count": 28,
   "id": "71cefb29",
   "metadata": {},
   "outputs": [
    {
     "data": {
      "text/plain": [
       "True"
      ]
     },
     "execution_count": 28,
     "metadata": {},
     "output_type": "execute_result"
    }
   ],
   "source": [
    "b.size() == size"
   ]
  }
 ],
 "metadata": {
  "kernelspec": {
   "display_name": "Python 3 (ipykernel)",
   "language": "python",
   "name": "python3"
  },
  "language_info": {
   "codemirror_mode": {
    "name": "ipython",
    "version": 3
   },
   "file_extension": ".py",
   "mimetype": "text/x-python",
   "name": "python",
   "nbconvert_exporter": "python",
   "pygments_lexer": "ipython3",
   "version": "3.8.10"
  }
 },
 "nbformat": 4,
 "nbformat_minor": 5
}
