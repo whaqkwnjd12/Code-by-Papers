{
 "cells": [
  {
   "cell_type": "code",
   "execution_count": 2,
   "id": "965cbc11",
   "metadata": {},
   "outputs": [
    {
     "name": "stdout",
     "output_type": "stream",
     "text": [
      "The autoreload extension is already loaded. To reload it, use:\n",
      "  %reload_ext autoreload\n",
      "torch.Size([64, 512])\n",
      "torch.Size([64, 256])\n",
      "torch.Size([64, 256])\n",
      "torch.Size([64, 512])\n"
     ]
    }
   ],
   "source": [
    "import torch\n",
    "import torch.nn as nn\n",
    "from modules.module import SMC_Module\n",
    "from time import time\n",
    "from torch.optim import SGD\n",
    "\n",
    "from torch.nn import MSELoss\n",
    "%load_ext autoreload\n",
    "%autoreload 2\n",
    "\n",
    "DEVICE = torch.device('cuda:0')\n",
    "b = SMC_Module().to(DEVICE)\n",
    "\n",
    "T = 64\n",
    "x = torch.randn(T, 3, 244, 244).to(DEVICE)\n",
    "l = torch.randn(T, 1536).to(DEVICE)\n",
    "start = time()\n",
    "for m in b(x):\n",
    "    print(m.size())\n"
   ]
  }
 ],
 "metadata": {
  "kernelspec": {
   "display_name": "Python 3 (ipykernel)",
   "language": "python",
   "name": "python3"
  },
  "language_info": {
   "codemirror_mode": {
    "name": "ipython",
    "version": 3
   },
   "file_extension": ".py",
   "mimetype": "text/x-python",
   "name": "python",
   "nbconvert_exporter": "python",
   "pygments_lexer": "ipython3",
   "version": "3.8.10"
  }
 },
 "nbformat": 4,
 "nbformat_minor": 5
}
